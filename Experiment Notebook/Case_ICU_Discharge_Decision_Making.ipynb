{
 "cells": [
  {
   "cell_type": "markdown",
   "metadata": {},
   "source": [
    "# Discharge Decision-Making Model Training & Testing"
   ]
  },
  {
   "cell_type": "code",
   "execution_count": null,
   "metadata": {},
   "outputs": [],
   "source": [
    "import sys\n",
    "import os\n",
    "# Add parent directory to path (project root)\n",
    "sys.path.append(os.path.abspath('..'))"
   ]
  },
  {
   "cell_type": "code",
   "execution_count": null,
   "metadata": {},
   "outputs": [],
   "source": [
    "from ConMedRL.conmedrl import *\n",
    "from ConMedRL.data_loader import *"
   ]
  },
  {
   "cell_type": "code",
   "execution_count": null,
   "metadata": {},
   "outputs": [],
   "source": [
    "dm_configuration = RLConfigurator()"
   ]
  },
  {
   "cell_type": "code",
   "execution_count": null,
   "metadata": {},
   "outputs": [],
   "source": [
    "dm_configuration.choose_config_method()"
   ]
  },
  {
   "cell_type": "code",
   "execution_count": null,
   "metadata": {},
   "outputs": [],
   "source": [
    "dm_configuration.config.memory_capacity"
   ]
  },
  {
   "cell_type": "code",
   "execution_count": null,
   "metadata": {},
   "outputs": [],
   "source": [
    "outcome_table_train = pd.read_csv('discharge_sample_outcome_table_train.csv')\n",
    "state_var_table = pd.read_csv('discharge_sample_state_var_table_train.csv')\n",
    "\n",
    "outcome_table_val = pd.read_csv('discharge_sample_outcome_table_val.csv')\n",
    "outcome_table_val_select = pd.read_csv('discharge_sample_outcome_table_val_select.csv')\n",
    "\n",
    "state_var_table_val = pd.read_csv('discharge_sample_state_var_table_val.csv')\n",
    "state_var_table_val_select = pd.read_csv('discharge_sample_state_var_table_val_select.csv')"
   ]
  },
  {
   "cell_type": "code",
   "execution_count": null,
   "metadata": {},
   "outputs": [],
   "source": [
    "terminal_state = np.zeros(state_var_table.shape[1])"
   ]
  },
  {
   "cell_type": "code",
   "execution_count": null,
   "metadata": {},
   "outputs": [],
   "source": [
    "len(terminal_state)"
   ]
  },
  {
   "cell_type": "code",
   "execution_count": null,
   "metadata": {},
   "outputs": [],
   "source": [
    "outcome_table_train.columns"
   ]
  },
  {
   "cell_type": "code",
   "execution_count": null,
   "metadata": {},
   "outputs": [],
   "source": [
    "state_var_table.columns"
   ]
  },
  {
   "cell_type": "code",
   "execution_count": null,
   "metadata": {},
   "outputs": [],
   "source": [
    "train_data_loader = TrainDataLoader(cfg = dm_configuration.config, \n",
    "                                    outcome_table = outcome_table_train, \n",
    "                                    state_var_table = state_var_table, \n",
    "                                    terminal_state = terminal_state)"
   ]
  },
  {
   "cell_type": "code",
   "execution_count": null,
   "metadata": {},
   "outputs": [],
   "source": [
    "train_data_loader.data_buffer_train(action_name = 'discharge_action', \n",
    "                                    done_condition = None, ### None: use action as done condition - only for illustration\n",
    "                                    num_constraint = 2)"
   ]
  },
  {
   "cell_type": "code",
   "execution_count": null,
   "metadata": {},
   "outputs": [],
   "source": []
  },
  {
   "cell_type": "code",
   "execution_count": null,
   "metadata": {},
   "outputs": [],
   "source": [
    "val_data_loader = ValTestDataLoader(cfg = dm_configuration.config, \n",
    "                                    outcome_table_select = outcome_table_val_select, \n",
    "                                    state_var_table_select = state_var_table_val_select, \n",
    "                                    outcome_table = outcome_table_val, \n",
    "                                    state_var_table = state_var_table_val, \n",
    "                                    terminal_state = terminal_state)"
   ]
  },
  {
   "cell_type": "code",
   "execution_count": null,
   "metadata": {},
   "outputs": [],
   "source": [
    "val_data_loader.data_buffer(action_name = 'discharge_action', \n",
    "                            done_condition = None, ### None: use action as done condition - only for illustration\n",
    "                            num_constraint = 2)"
   ]
  },
  {
   "cell_type": "code",
   "execution_count": null,
   "metadata": {},
   "outputs": [],
   "source": [
    "ocrl_training = RLTraining(cfg = dm_configuration.config, \n",
    "                           state_dim = state_var_table.shape[1], \n",
    "                           action_dim = 2, \n",
    "                           train_data_loader = train_data_loader.data_torch_loader_train,\n",
    "                           val_data_loader = val_data_loader.data_torch_loader)"
   ]
  },
  {
   "cell_type": "code",
   "execution_count": null,
   "metadata": {},
   "outputs": [],
   "source": [
    "# Building the FQI agent\n",
    "fqi_agent = ocrl_training.fqi_agent_config(hidden_layers = [128, 128], \n",
    "                                           weight_decay = None, \n",
    "                                           seed = 1) \n",
    "\n",
    "# Building the FQE agents\n",
    "fqe_agent_obj = ocrl_training.fqe_agent_config(eval_agent = fqi_agent, \n",
    "                                               hidden_layers = [1000], \n",
    "                                               weight_decay = None, \n",
    "                                               eval_target = 'obj', \n",
    "                                               seed = 1) \n",
    "\n",
    "fqe_agent_con_0 = ocrl_training.fqe_agent_config(eval_agent = fqi_agent, \n",
    "                                                 hidden_layers = [1000], \n",
    "                                                 weight_decay = None, \n",
    "                                                 eval_target = 0, \n",
    "                                                 seed = 1) \n",
    "\n",
    "fqe_agent_con_1 = ocrl_training.fqe_agent_config(eval_agent = fqi_agent, \n",
    "                                                 hidden_layers = [1000], \n",
    "                                                 weight_decay = None, \n",
    "                                                 eval_target = 1, \n",
    "                                                 seed = 1) "
   ]
  },
  {
   "cell_type": "code",
   "execution_count": null,
   "metadata": {},
   "outputs": [],
   "source": [
    "ocrl_training.train(agent_fqi = fqi_agent, \n",
    "                    agent_fqe_obj = fqe_agent_obj, \n",
    "                    agent_fqe_con_list = [fqe_agent_con_0, fqe_agent_con_1], \n",
    "                    constraint = True,\n",
    "                    save_num = 100,\n",
    "                    z_value = 1.96)"
   ]
  },
  {
   "cell_type": "code",
   "execution_count": null,
   "metadata": {},
   "outputs": [],
   "source": []
  },
  {
   "cell_type": "code",
   "execution_count": null,
   "metadata": {},
   "outputs": [],
   "source": []
  },
  {
   "cell_type": "code",
   "execution_count": null,
   "metadata": {},
   "outputs": [],
   "source": []
  },
  {
   "cell_type": "code",
   "execution_count": null,
   "metadata": {},
   "outputs": [],
   "source": []
  },
  {
   "cell_type": "code",
   "execution_count": null,
   "metadata": {},
   "outputs": [],
   "source": []
  },
  {
   "cell_type": "code",
   "execution_count": null,
   "metadata": {},
   "outputs": [],
   "source": []
  }
 ],
 "metadata": {
  "kernelspec": {
   "display_name": "dataAna",
   "language": "python",
   "name": "python3"
  },
  "language_info": {
   "codemirror_mode": {
    "name": "ipython",
    "version": 3
   },
   "file_extension": ".py",
   "mimetype": "text/x-python",
   "name": "python",
   "nbconvert_exporter": "python",
   "pygments_lexer": "ipython3",
   "version": "3.9.21"
  }
 },
 "nbformat": 4,
 "nbformat_minor": 2
}
