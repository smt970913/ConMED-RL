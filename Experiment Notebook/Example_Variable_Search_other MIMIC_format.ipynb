{
 "cells": [
  {
   "cell_type": "markdown",
   "id": "b77c4f45",
   "metadata": {},
   "source": [
    "# Test Variable Search funtion in NWICU"
   ]
  },
  {
   "cell_type": "code",
   "execution_count": null,
   "id": "24cf9902",
   "metadata": {},
   "outputs": [],
   "source": [
    "import sys\n",
    "sys.path.append('C:/Users/ge28pih/PycharmProjects/ICU-Decision Making-OCRL')"
   ]
  },
  {
   "cell_type": "code",
   "execution_count": null,
   "id": "fbd4ca7f",
   "metadata": {},
   "outputs": [],
   "source": [
    "### Still use the data_preprocess.py for MIMIC-IV dataset\n",
    "from Data.mimic_iv_icu_discharge.data_preprocess import *"
   ]
  },
  {
   "cell_type": "code",
   "execution_count": null,
   "id": "64e2fd04",
   "metadata": {},
   "outputs": [],
   "source": [
    "discharge_data_preprocess = ICUDataInput(\n",
    "    d_items_path = 'C:/Users/ge28pih/PycharmProjects/discharge_decision_making/icu_data/nwicu/data/nw_icu/d_items.csv.gz',\n",
    "    input_events_path = None,\n",
    "    pro_events_path = 'C:/Users/ge28pih/PycharmProjects/discharge_decision_making/icu_data/nwicu/data/nw_icu/procedureevents.csv.gz',\n",
    "    output_events_path = None,\n",
    "    icu_patient_path = 'C:/Users/ge28pih/PycharmProjects/discharge_decision_making/icu_data/nwicu/data/nw_icu/icustays.csv.gz',\n",
    "    d_labitems_path = 'C:/Users/ge28pih/PycharmProjects/discharge_decision_making/icu_data/nwicu/data/nw_hosp/d_labitems.csv.gz',\n",
    "    admission_path = 'C:/Users/ge28pih/PycharmProjects/discharge_decision_making/icu_data/nwicu/data/nw_hosp/admissions.csv.gz',\n",
    "    all_patients_path = 'C:/Users/ge28pih/PycharmProjects/discharge_decision_making/icu_data/nwicu/data/nw_hosp/patients.csv.gz',\n",
    "    data_compression = 'gzip'\n",
    ")"
   ]
  },
  {
   "cell_type": "code",
   "execution_count": null,
   "id": "35258e0b",
   "metadata": {},
   "outputs": [],
   "source": [
    "discharge_data_preprocess.load_data()"
   ]
  },
  {
   "cell_type": "code",
   "execution_count": null,
   "id": "4d311616",
   "metadata": {},
   "outputs": [],
   "source": [
    "discharge_data_preprocess.d_items_data"
   ]
  },
  {
   "cell_type": "markdown",
   "id": "b5baa9f2",
   "metadata": {},
   "source": [
    "- Seach variables"
   ]
  },
  {
   "cell_type": "code",
   "execution_count": null,
   "id": "d219d816",
   "metadata": {},
   "outputs": [],
   "source": [
    "search_variable = VariableSearch(d_items_table = discharge_data_preprocess.d_items_data, \n",
    "                                 search_column = 'abbreviation', \n",
    "                                 id_column = 'itemid')"
   ]
  },
  {
   "cell_type": "code",
   "execution_count": null,
   "id": "d0507517",
   "metadata": {},
   "outputs": [],
   "source": [
    "api_key = 'xx-xxx-xxxx-xxxxx'"
   ]
  },
  {
   "cell_type": "code",
   "execution_count": null,
   "id": "1896443a",
   "metadata": {},
   "outputs": [],
   "source": [
    "items_id_list = search_variable.search_by_keyword(keyword = 'Hemoglobin', \n",
    "                                                  output_column = 'itemid', \n",
    "                                                  use_regex = False, \n",
    "                                                  enable_translation = False, \n",
    "                                                  target_languages = ['English'], \n",
    "                                                  translation_service = 'claude', \n",
    "                                                  api_key = api_key, \n",
    "                                                  custom_translator = None, enable_interactive_mode = True)"
   ]
  },
  {
   "cell_type": "code",
   "execution_count": null,
   "id": "82ff689e",
   "metadata": {},
   "outputs": [],
   "source": [
    "items_id_list"
   ]
  },
  {
   "cell_type": "code",
   "execution_count": null,
   "id": "e1a9abe9",
   "metadata": {},
   "outputs": [],
   "source": [
    "discharge_data_preprocess.d_items_data[discharge_data_preprocess.d_items_data['itemid'] == 320277]"
   ]
  },
  {
   "cell_type": "code",
   "execution_count": null,
   "id": "90c37c7e",
   "metadata": {},
   "outputs": [],
   "source": [
    "id_list = [320045, 320277]"
   ]
  },
  {
   "cell_type": "code",
   "execution_count": null,
   "id": "d2ee09f6",
   "metadata": {},
   "outputs": [],
   "source": [
    "variable_selection = VariableSelect(d_items_table = discharge_data_preprocess.d_items_data, \n",
    "                                    item_id_list = items_id_list)\n",
    "\n",
    "variable_selection.select_variables()"
   ]
  },
  {
   "cell_type": "code",
   "execution_count": null,
   "id": "873c9f2c",
   "metadata": {},
   "outputs": [],
   "source": [
    "variable_selection.get_selected_data()"
   ]
  },
  {
   "cell_type": "code",
   "execution_count": null,
   "id": "4fd1b956",
   "metadata": {},
   "outputs": [],
   "source": [
    "variable_selection.select_data_chartEvents()\n",
    "variable_selection.select_data_outputEvents()\n",
    "variable_selection.select_data_datetimeEvents()\n",
    "variable_selection.select_data_ingredientEvents()"
   ]
  },
  {
   "cell_type": "code",
   "execution_count": null,
   "id": "ad64161a",
   "metadata": {},
   "outputs": [],
   "source": [
    "variable_selection.d_items_data_chart"
   ]
  }
 ],
 "metadata": {
  "kernelspec": {
   "display_name": "dataAna",
   "language": "python",
   "name": "python3"
  },
  "language_info": {
   "codemirror_mode": {
    "name": "ipython",
    "version": 3
   },
   "file_extension": ".py",
   "mimetype": "text/x-python",
   "name": "python",
   "nbconvert_exporter": "python",
   "pygments_lexer": "ipython3",
   "version": "3.9.21"
  }
 },
 "nbformat": 4,
 "nbformat_minor": 5
}
