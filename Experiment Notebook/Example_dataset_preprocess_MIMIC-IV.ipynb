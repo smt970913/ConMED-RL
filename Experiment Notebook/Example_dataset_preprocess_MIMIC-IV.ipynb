{
 "cells": [
  {
   "cell_type": "markdown",
   "metadata": {},
   "source": [
    "# DataSet Preprocessing - MIMIC-IV"
   ]
  },
  {
   "cell_type": "markdown",
   "metadata": {},
   "source": [
    "## Case: Discharge Decision-Making"
   ]
  },
  {
   "cell_type": "code",
   "execution_count": null,
   "metadata": {},
   "outputs": [],
   "source": [
    "import sys\n",
    "sys.path.append('C:/Users/ge28pih/PycharmProjects/ICU-Decision Making-OCRL')"
   ]
  },
  {
   "cell_type": "code",
   "execution_count": null,
   "metadata": {},
   "outputs": [],
   "source": [
    "from Data.mimic_iv_icu_discharge.data_preprocess import *"
   ]
  },
  {
   "cell_type": "code",
   "execution_count": null,
   "metadata": {},
   "outputs": [],
   "source": [
    "discharge_data_preprocess = ICUDataInput(\n",
    "    d_items_path = 'C:/Users/ge28pih/PycharmProjects/discharge_decision_making/icu_data/mimic_iv/d_items.csv.gz',\n",
    "    input_events_path = 'C:/Users/ge28pih/PycharmProjects/discharge_decision_making/icu_data/mimic_iv/inputevents.csv.gz',\n",
    "    pro_events_path = 'C:/Users/ge28pih/PycharmProjects/discharge_decision_making/icu_data/mimic_iv/procedureevents.csv.gz',\n",
    "    output_events_path = 'C:/Users/ge28pih/PycharmProjects/discharge_decision_making/icu_data/mimic_iv/outputevents.csv.gz',\n",
    "    icu_patient_path = 'C:/Users/ge28pih/PycharmProjects/discharge_decision_making/icu_data/mimic_iv/icustays.csv.gz',\n",
    "    d_labitems_path = 'C:/Users/ge28pih/PycharmProjects/discharge_decision_making/icu_data/mimic_iv/d_labitems.csv.gz',\n",
    "    admission_path = 'C:/Users/ge28pih/PycharmProjects/discharge_decision_making/icu_data/mimic_iv/admissions.csv.gz',\n",
    "    all_patients_path = 'C:/Users/ge28pih/PycharmProjects/discharge_decision_making/icu_data/mimic_iv/patients.csv.gz',\n",
    "    data_compression = 'gzip'\n",
    ")"
   ]
  },
  {
   "cell_type": "code",
   "execution_count": null,
   "metadata": {},
   "outputs": [],
   "source": [
    "discharge_data_preprocess.load_data()"
   ]
  },
  {
   "cell_type": "code",
   "execution_count": null,
   "metadata": {},
   "outputs": [],
   "source": [
    "discharge_data_preprocess.d_items_data"
   ]
  },
  {
   "cell_type": "code",
   "execution_count": null,
   "metadata": {},
   "outputs": [],
   "source": [
    "discharge_data_preprocess.d_items_data[discharge_data_preprocess.d_items_data['linksto'] == 'chartevents']"
   ]
  },
  {
   "cell_type": "markdown",
   "metadata": {},
   "source": [
    "- Search Variables"
   ]
  },
  {
   "cell_type": "code",
   "execution_count": null,
   "metadata": {},
   "outputs": [],
   "source": [
    "search_variable = VariableSearch(d_items_table = discharge_data_preprocess.d_items_data, \n",
    "                                 search_column = 'label')"
   ]
  },
  {
   "cell_type": "code",
   "execution_count": null,
   "metadata": {},
   "outputs": [],
   "source": [
    "search_variable.search_by_keyword(keyword = 'heart rate', \n",
    "                                  output_column = 'itemid', \n",
    "                                  use_regex = False, \n",
    "                                  enable_translation = False, \n",
    "                                  target_languages = None, \n",
    "                                  translation_service = 'openai', \n",
    "                                  api_key = None, \n",
    "                                  custom_translator = None)"
   ]
  },
  {
   "cell_type": "code",
   "execution_count": null,
   "metadata": {},
   "outputs": [],
   "source": [
    "discharge_data_preprocess.d_items_data[discharge_data_preprocess.d_items_data['itemid'] == 220045]"
   ]
  },
  {
   "cell_type": "markdown",
   "metadata": {},
   "source": [
    "- Select Variables "
   ]
  },
  {
   "cell_type": "code",
   "execution_count": null,
   "metadata": {},
   "outputs": [],
   "source": [
    "# Define item IDs by category for better organization and maintenance\n",
    "vital_signs_ids = [\n",
    "    220045, 220048, 220179, 220050, 220180, 220051, 220052, 220181, \n",
    "    225312, 220210, 224690, 223761, 223762, 220277\n",
    "]\n",
    "\n",
    "gcs_score_ids = [\n",
    "    223901, 223900, 220739\n",
    "]\n",
    "\n",
    "ventilator_params_ids = [\n",
    "    220339, 224700, 224685, 224684, 224686, 223835, 223848, 223849\n",
    "]\n",
    "\n",
    "laboratory_ids = [\n",
    "    225624, 226536, 220602, 227464, 226534, 226537, 229761, 220653, 220546, \n",
    "    227466, 227467, 227457, 220274, 223830, 220228, 220235, 220224, 226062, \n",
    "    226063, 227456, 226540, 224828, 220635, 220545, 220615, 220621, 220645\n",
    "]\n",
    "\n",
    "general_ids = [\n",
    "    224639, 226260, 226512, 226531, 226892, 227428\n",
    "]\n",
    "\n",
    "adt_ids = [\n",
    "    220003, 226228, 226545\n",
    "]\n",
    "\n",
    "additional_ids = [\n",
    "    224719, 226862, 228878, 227465, 227442, 227443, 225651, 225690, \n",
    "    226566, 227489, 226627, 220994, 227519, 227488, 225667, 228699, \n",
    "    228709, 228713, 228703, 228704, 228705, 225309, 225310, 220227, \n",
    "    224688, 224689\n",
    "]\n",
    "\n",
    "# Combine all IDs and remove duplicates\n",
    "items_id_list = list(set(\n",
    "    vital_signs_ids + gcs_score_ids + ventilator_params_ids + \n",
    "    laboratory_ids + general_ids + adt_ids + additional_ids\n",
    "))\n",
    "\n",
    "# Sort for consistent ordering\n",
    "items_id_list.sort()\n",
    "\n",
    "print(f\"Total unique item IDs: {len(items_id_list)}\")\n",
    "print(f\"First 10 IDs: {items_id_list[:10]}\")"
   ]
  },
  {
   "cell_type": "code",
   "execution_count": null,
   "metadata": {},
   "outputs": [],
   "source": [
    "variable_selection = VariableSelect(d_items_table = discharge_data_preprocess.d_items_data, \n",
    "                                    item_id_list = items_id_list)\n",
    "\n",
    "variable_selection.select_variables()"
   ]
  },
  {
   "cell_type": "code",
   "execution_count": null,
   "metadata": {},
   "outputs": [],
   "source": [
    "variable_selection.get_selected_data()"
   ]
  },
  {
   "cell_type": "code",
   "execution_count": null,
   "metadata": {},
   "outputs": [],
   "source": [
    "variable_selection.select_data_chartEvents()\n",
    "variable_selection.select_data_outputEvents()\n",
    "variable_selection.select_data_datetimeEvents()\n",
    "variable_selection.select_data_ingredientEvents()"
   ]
  },
  {
   "cell_type": "code",
   "execution_count": null,
   "metadata": {},
   "outputs": [],
   "source": [
    "variable_selection.d_items_data_chart"
   ]
  },
  {
   "cell_type": "markdown",
   "metadata": {},
   "source": [
    "- Chart events data preprocess"
   ]
  },
  {
   "cell_type": "code",
   "execution_count": null,
   "metadata": {},
   "outputs": [],
   "source": [
    "chart_events_process = ChartEventsProcess(chart_events_path = 'C:/Users/ge28pih/PycharmProjects/discharge_decision_making/icu_data/mimic_iv/chartevents.csv.gz', \n",
    "                                          item_id_list = variable_selection.d_items_data['itemid'].tolist())"
   ]
  },
  {
   "cell_type": "code",
   "execution_count": null,
   "metadata": {},
   "outputs": [],
   "source": [
    "chart_events_process.load_and_filter_data(var_type = {\n",
    "    'cgid': 'float64',\n",
    "    'stay_id': 'float64',\n",
    "    'error': 'float64',\n",
    "    'resultstatus': 'object',\n",
    "    'stopped': 'object',\n",
    "    'value': 'object',\n",
    "    'valuenum': 'float64',\n",
    "    'warning': 'float64',\n",
    "    'valueuom': 'object',\n",
    "    'caregiver_id': 'float64'\n",
    "})"
   ]
  },
  {
   "cell_type": "code",
   "execution_count": null,
   "metadata": {},
   "outputs": [],
   "source": [
    "icu_patient_data_process = PatientDataProcess(ICU_patient_data = discharge_data_preprocess.ICU_patient_data)"
   ]
  },
  {
   "cell_type": "code",
   "execution_count": null,
   "metadata": {},
   "outputs": [],
   "source": [
    "ICU_unit = ['Medical Intensive Care Unit (MICU)', \n",
    "            'Surgical Intensive Care Unit (SICU)', \n",
    "            'Medical/Surgical Intensive Care Unit (MICU/SICU)', \n",
    "            'Cardiac Vascular Intensive Care Unit (CVICU)', \n",
    "            'Coronary Care Unit (CCU)', \n",
    "            'Trauma SICU (TSICU)']\n",
    "\n",
    "icu_patient_data_process.filter_ICU_patients(icu_unit_list = ICU_unit)\n",
    "icu_patient_data_process.calculate_los()\n",
    "icu_patient_data_process.denote_readmission_cases(readmission_observation_days = 30)\n",
    "icu_patient_data_process.denote_death_cases(admission_data = discharge_data_preprocess.admission_data, \n",
    "                                            patients_data = discharge_data_preprocess.patients_data, \n",
    "                                            readmission_observation_days = 30)\n",
    "icu_patient_data_process.denote_readmission_count(readmission_observation_days = 30)"
   ]
  },
  {
   "cell_type": "code",
   "execution_count": null,
   "metadata": {},
   "outputs": [],
   "source": [
    "gen_dataset = GenerateDataSet(chart_events_data = chart_events_process.chart_events_data,\n",
    "                              d_items_data_chart = variable_selection.d_items_data_chart,\n",
    "                              icu_patient_data = icu_patient_data_process.ICU_patient_data)"
   ]
  },
  {
   "cell_type": "code",
   "execution_count": null,
   "metadata": {},
   "outputs": [],
   "source": [
    "items_delete_list = ['Ventilator Type', 'Ventilator Mode', \n",
    "                     'SaO2 < 90% > 2 min', 'Gender', \n",
    "                     'Race', 'Cardiovascular', 'Musculoskeletal', \n",
    "                     'Neurological', 'Nutrition', 'Respiratory', \n",
    "                     'Vascular', 'Mechanically Ventilated', \n",
    "                     'Re-admit < 48 hours', \n",
    "                     'Heart Rhythm', 'PA %O2 Saturation (PA Line)', 'SOFA Score', 'Urine output_ApacheIV']\n",
    "\n",
    "gen_dataset.prepare_chart_events_data(items_delete_list = items_delete_list)"
   ]
  },
  {
   "cell_type": "code",
   "execution_count": null,
   "metadata": {},
   "outputs": [],
   "source": [
    "physio_table_30_day = {'subject_id':[], 'hadm_id':[], 'stay_id':[], \n",
    "                      'time':[],\n",
    "                      'icu_starttime':[], 'icu_endtime':[], 'los':[],\n",
    "                      'discharge_fail':[], \n",
    "                      'readmission':[], 'readmission_count':[],\n",
    "                      'death_in_ICU':[], 'death_out_ICU':[], \n",
    "                      'age':[], 'gender':[], 'race':[]}\n",
    "\n",
    "for label in gen_dataset.d_items_data_chart['label']:\n",
    "    physio_table_30_day[label] = []\n",
    "\n",
    "physio_table_30_day"
   ]
  },
  {
   "cell_type": "code",
   "execution_count": null,
   "metadata": {},
   "outputs": [],
   "source": [
    "gen_dataset.dataset_generation(physio_table = physio_table_30_day)"
   ]
  },
  {
   "cell_type": "code",
   "execution_count": null,
   "metadata": {},
   "outputs": [],
   "source": [
    "gen_dataset.generated_dataset"
   ]
  },
  {
   "cell_type": "code",
   "execution_count": null,
   "metadata": {},
   "outputs": [],
   "source": [
    "gen_dataset.process_gen_data(pro_events_data = discharge_data_preprocess.pro_events_data, \n",
    "                             drop_columns = ['Arterial Blood Pressure systolic', 'Non Invasive Blood Pressure systolic', 'ART BP Systolic', \n",
    "                                             'Arterial Blood Pressure diastolic', \n",
    "                                             'Non Invasive Blood Pressure diastolic', \n",
    "                                             'ART BP Diastolic', 'Arterial Blood Pressure mean', \n",
    "                                             'Non Invasive Blood Pressure mean', \n",
    "                                             'ART BP Mean', 'Temperature Celsius', 'Temperature Fahrenheit', \n",
    "                                             'Arterial O2 Saturation', 'O2 saturation pulseoxymetry', \n",
    "                                             'GCS - Eye Opening', 'GCS - Verbal Response', 'GCS - Motor Response', \n",
    "                                             'PEEP set', 'Total PEEP Level', 'Admission Weight (lbs.)', \n",
    "                                             'Admission Weight (Kg)', 'Daily Weight'])"
   ]
  },
  {
   "cell_type": "code",
   "execution_count": null,
   "metadata": {},
   "outputs": [],
   "source": [
    "gen_dataset.generated_dataset.info()"
   ]
  },
  {
   "cell_type": "code",
   "execution_count": null,
   "metadata": {},
   "outputs": [],
   "source": [
    "# Temporary rename the column to avoid conflict with the original column\n",
    "gen_dataset.generated_dataset.rename(columns = {'patientweight': 'weight'}, inplace = True)"
   ]
  },
  {
   "cell_type": "code",
   "execution_count": null,
   "metadata": {},
   "outputs": [],
   "source": [
    "gen_dataset.abnormal_data_filter(method = 'iqr', \n",
    "                                 iqr_factor = 3.0, \n",
    "                                 z_threshold = 3.0, \n",
    "                                 abnormal_var_list = ['Heart Rate', 'Respiratory Rate', 'Arterial O2 pressure', 'Hemoglobin',\n",
    "                                                      'Arterial CO2 Pressure', 'PH (Venous)', 'Hematocrit (serum)', 'WBC',\n",
    "                                                      'Chloride (serum)', 'Creatinine (serum)', 'Glucose (serum)',\n",
    "                                                      'Magnesium', 'Sodium (serum)', 'PH (Arterial)', \n",
    "                                                      'Tidal Volume (observed)',\n",
    "                                                      'Tidal Volume (spontaneous)', 'Respiratory Rate (Set)',\n",
    "                                                      'Respiratory Rate (spontaneous)', 'Respiratory Rate (Total)',\n",
    "                                                      'Arterial Base Excess', 'BUN', 'Ionized Calcium', 'Total Bilirubin',\n",
    "                                                      'Venous CO2 Pressure', 'Venous O2 Pressure', 'Sodium (whole blood)',\n",
    "                                                      'Chloride (whole blood)', 'Glucose (whole blood)',\n",
    "                                                      'Hematocrit (whole blood - calc)', 'Potassium (serum)', 'HCO3 (serum)',\n",
    "                                                      'Albumin', 'Platelet Count', 'Potassium (whole blood)',\n",
    "                                                      'Prothrombin time', 'PTT', 'INR', \n",
    "                                                      'Blood Pressure Systolic', 'Blood Pressure Diastolic',\n",
    "                                                      'Blood Pressure Mean', 'Temperature C', 'SaO2', 'weight'])"
   ]
  },
  {
   "cell_type": "code",
   "execution_count": null,
   "metadata": {},
   "outputs": [],
   "source": [
    "gen_dataset.generated_dataset.to_csv('./mimic_iv_icu_discharge_dataset_v1.csv', index = False)"
   ]
  },
  {
   "cell_type": "code",
   "execution_count": null,
   "metadata": {},
   "outputs": [],
   "source": [
    "patient_data_imputer = PatientDataImputation(generated_dataset = gen_dataset.generated_dataset)"
   ]
  },
  {
   "cell_type": "code",
   "execution_count": null,
   "metadata": {},
   "outputs": [],
   "source": [
    "gen_dataset.generated_dataset.columns"
   ]
  },
  {
   "cell_type": "code",
   "execution_count": null,
   "metadata": {},
   "outputs": [],
   "source": [
    "names_var = ['age',\n",
    "             'Heart Rate', 'Respiratory Rate', 'Arterial O2 pressure', 'Hemoglobin',\n",
    "             'Arterial CO2 Pressure', 'PH (Venous)', 'Hematocrit (serum)', 'WBC',\n",
    "             'Chloride (serum)', 'Creatinine (serum)', 'Glucose (serum)',\n",
    "             'Magnesium', 'Sodium (serum)', 'PH (Arterial)', 'Inspired O2 Fraction',\n",
    "             'Tidal Volume (set)', 'Tidal Volume (observed)',\n",
    "             'Tidal Volume (spontaneous)', 'Respiratory Rate (Set)',\n",
    "             'Respiratory Rate (spontaneous)', 'Respiratory Rate (Total)',\n",
    "             'Arterial Base Excess', 'BUN', 'Ionized Calcium', 'Total Bilirubin',\n",
    "             'Venous CO2 Pressure', 'Venous O2 Pressure', 'Sodium (whole blood)',\n",
    "             'Chloride (whole blood)', 'Glucose (whole blood)',\n",
    "             'Hematocrit (whole blood - calc)', 'Potassium (serum)', 'HCO3 (serum)',\n",
    "             'Albumin', 'Platelet Count', 'Potassium (whole blood)',\n",
    "             'Prothrombin time', 'PTT', 'INR', 'M',\n",
    "             'Blood Pressure Systolic', 'Blood Pressure Diastolic',\n",
    "             'Blood Pressure Mean', 'SaO2', 'Temperature C', 'GCS Score', 'PEEP Level', 'weight']"
   ]
  },
  {
   "cell_type": "code",
   "execution_count": null,
   "metadata": {},
   "outputs": [],
   "source": [
    "drop_list, middle_list, knn_list = patient_data_imputer.classify_missing_columns(var_list = names_var, \n",
    "                                                                                 missing_threshold_1 = 0.75, \n",
    "                                                                                 missing_threshold_2 = 0.10)"
   ]
  },
  {
   "cell_type": "code",
   "execution_count": null,
   "metadata": {},
   "outputs": [],
   "source": [
    "drop_list"
   ]
  },
  {
   "cell_type": "code",
   "execution_count": null,
   "metadata": {},
   "outputs": [],
   "source": [
    "# patient_data_imputer.drop_columns(var_list = drop_list)"
   ]
  },
  {
   "cell_type": "code",
   "execution_count": null,
   "metadata": {},
   "outputs": [],
   "source": [
    "patient_data_imputer.forward_fill_missing_values(var_list = drop_list)\n",
    "patient_data_imputer.forward_fill_missing_values(var_list = middle_list)\n",
    "patient_data_imputer.forward_fill_missing_values(var_list = knn_list)"
   ]
  },
  {
   "cell_type": "code",
   "execution_count": null,
   "metadata": {},
   "outputs": [],
   "source": [
    "drop_list, middle_list, knn_list = patient_data_imputer.classify_missing_columns(var_list = names_var, \n",
    "                                                                                 missing_threshold_1 = 0.75, \n",
    "                                                                                 missing_threshold_2 = 0.10)"
   ]
  },
  {
   "cell_type": "code",
   "execution_count": null,
   "metadata": {},
   "outputs": [],
   "source": [
    "# patient_data_imputer.drop_columns(var_list = drop_list)"
   ]
  },
  {
   "cell_type": "code",
   "execution_count": null,
   "metadata": {},
   "outputs": [],
   "source": [
    "feature_list = middle_list + knn_list\n",
    "patient_data_imputer.linear_impute_missing_values(var_list = feature_list)"
   ]
  },
  {
   "cell_type": "code",
   "execution_count": null,
   "metadata": {},
   "outputs": [],
   "source": [
    "### Check the missing values of the dataset again"
   ]
  },
  {
   "cell_type": "code",
   "execution_count": null,
   "metadata": {},
   "outputs": [],
   "source": [
    "# patient_data_imputer.drop_columns(var_list = drop_list)"
   ]
  },
  {
   "cell_type": "code",
   "execution_count": null,
   "metadata": {},
   "outputs": [],
   "source": [
    "patient_data_imputer.knn_impute_missing_values(num_neigh = 5, \n",
    "                                               scaler = MinMaxScaler(),\n",
    "                                               chunk_size = 10000, \n",
    "                                               num_jobs = 60)"
   ]
  },
  {
   "cell_type": "code",
   "execution_count": null,
   "metadata": {},
   "outputs": [],
   "source": [
    "patient_data_imputer.save_to_csv(file_path = './mimic_iv_icu_discharge_dataset_v2.csv', \n",
    "                                 index = False)"
   ]
  },
  {
   "cell_type": "code",
   "execution_count": null,
   "metadata": {},
   "outputs": [],
   "source": [
    "state_space_builder = StateSpaceBuilder(generated_dataset = patient_data_imputer.generated_dataset)"
   ]
  },
  {
   "cell_type": "code",
   "execution_count": null,
   "metadata": {},
   "outputs": [],
   "source": [
    "state_space_builder.drop_duplicate_rows()"
   ]
  },
  {
   "cell_type": "code",
   "execution_count": null,
   "metadata": {},
   "outputs": [],
   "source": [
    "state_space_builder.columns_manipulation()"
   ]
  },
  {
   "cell_type": "code",
   "execution_count": null,
   "metadata": {},
   "outputs": [],
   "source": [
    "state_space_builder.icu_discharge_data_selection(los_threshold = 15.0)"
   ]
  },
  {
   "cell_type": "code",
   "execution_count": null,
   "metadata": {},
   "outputs": [],
   "source": [
    "var_outcome_list = ['subject_id', 'hadm_id', 'stay_id', 'time', 'discharge_action', 'epoch', \n",
    "                    'icu_starttime', 'icu_endtime', 'los', \n",
    "                    'discharge_fail', \n",
    "                    'readmission', 'readmission_count', 'death_in_ICU', 'death_out_ICU']\n",
    "\n",
    "var_physio_list = ['age', 'M', 'weight', 'Heart Rate', 'Arterial O2 pressure', 'Hemoglobin',\n",
    "                   'Arterial CO2 Pressure', 'PH (Venous)', 'Hematocrit (serum)', 'WBC',\n",
    "                   'Chloride (serum)', 'Creatinine (serum)', 'Glucose (serum)',\n",
    "                    'Magnesium', 'Sodium (serum)', 'PH (Arterial)', 'Inspired O2 Fraction',\n",
    "                    'Arterial Base Excess', 'BUN', 'Ionized Calcium', 'Total Bilirubin',\n",
    "                    'Glucose (whole blood)', 'Potassium (serum)', 'HCO3 (serum)',\n",
    "                    'Platelet Count', 'Prothrombin time', 'PTT', 'INR', \n",
    "                    'Blood Pressure Systolic', 'Blood Pressure Diastolic', 'Blood Pressure Mean', 'Temperature C',\n",
    "                    'SaO2', 'GCS score', 'RR', 'TV', 'readmission_count']"
   ]
  },
  {
   "cell_type": "code",
   "execution_count": null,
   "metadata": {},
   "outputs": [],
   "source": [
    "state_space_builder.table_split(var_outcome = var_outcome_list, var_physio = var_physio_list)"
   ]
  },
  {
   "cell_type": "code",
   "execution_count": null,
   "metadata": {},
   "outputs": [],
   "source": [
    "state_space_builder.discharge_cost_set(scaler = MinMaxScaler())"
   ]
  },
  {
   "cell_type": "code",
   "execution_count": null,
   "metadata": {},
   "outputs": [],
   "source": [
    "state_space_builder.train_val_test_split(scaler = MinMaxScaler(), \n",
    "                                         test_prop = 0.2, val_prop = 0.5, \n",
    "                                         random_seed = 42)"
   ]
  },
  {
   "cell_type": "code",
   "execution_count": null,
   "metadata": {},
   "outputs": [],
   "source": [
    "state_space_builder.save_to_csv(dataset = state_space_builder.rl_cont_state_table, \n",
    "                                file_path = '../model_output/state_table.csv')\n",
    "state_space_builder.save_to_csv(dataset = state_space_builder.rl_table_train, \n",
    "                                file_path = '../model_output/state_table_train.csv')\n",
    "state_space_builder.save_to_csv(dataset = state_space_builder.rl_table_val, \n",
    "                                file_path = '../model_output/state_table_val.csv')\n",
    "state_space_builder.save_to_csv(dataset = state_space_builder.rl_table_test, \n",
    "                                file_path = '../model_output/state_table_test.csv')\n",
    "\n",
    "state_space_builder.save_to_csv(dataset = state_space_builder.rl_cont_state_table_scaled, \n",
    "                                file_path = '../model_output/state_table_scaled.csv')\n",
    "state_space_builder.save_to_csv(dataset = state_space_builder.rl_table_train_scaled, \n",
    "                                file_path = '../model_output/state_table_scaled_train.csv')\n",
    "state_space_builder.save_to_csv(dataset = state_space_builder.rl_table_val_scaled, \n",
    "                                file_path = '../model_output/state_table_scaled_val.csv')\n",
    "state_space_builder.save_to_csv(dataset = state_space_builder.rl_table_test_scaled, \n",
    "                                file_path = '../model_output/state_table_scaled_test.csv')\n",
    "\n",
    "state_space_builder.save_to_csv(dataset = state_space_builder.state_id_table, \n",
    "                                file_path = '../model_output/outcome_table.csv')\n",
    "state_space_builder.save_to_csv(dataset = state_space_builder.id_table_train, \n",
    "                                file_path = '../model_output/outcome_table_train.csv')\n",
    "state_space_builder.save_to_csv(dataset = state_space_builder.id_table_val, \n",
    "                                file_path = '../model_output/outcome_table_val.csv')\n",
    "state_space_builder.save_to_csv(dataset = state_space_builder.id_table_test, \n",
    "                                file_path = '../model_output/outcome_table_test.csv')"
   ]
  },
  {
   "cell_type": "code",
   "execution_count": null,
   "metadata": {},
   "outputs": [],
   "source": []
  },
  {
   "cell_type": "code",
   "execution_count": null,
   "metadata": {},
   "outputs": [],
   "source": []
  },
  {
   "cell_type": "code",
   "execution_count": null,
   "metadata": {},
   "outputs": [],
   "source": []
  },
  {
   "cell_type": "code",
   "execution_count": null,
   "metadata": {},
   "outputs": [],
   "source": []
  }
 ],
 "metadata": {
  "kernelspec": {
   "display_name": "dataAna",
   "language": "python",
   "name": "python3"
  },
  "language_info": {
   "codemirror_mode": {
    "name": "ipython",
    "version": 3
   },
   "file_extension": ".py",
   "mimetype": "text/x-python",
   "name": "python",
   "nbconvert_exporter": "python",
   "pygments_lexer": "ipython3",
   "version": "3.9.21"
  }
 },
 "nbformat": 4,
 "nbformat_minor": 2
}
