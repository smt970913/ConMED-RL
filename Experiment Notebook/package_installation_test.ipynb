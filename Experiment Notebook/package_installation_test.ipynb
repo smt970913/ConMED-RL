{
 "cells": [
  {
   "cell_type": "code",
   "execution_count": 5,
   "id": "55b5e0be",
   "metadata": {},
   "outputs": [
    {
     "name": "stdout",
     "output_type": "stream",
     "text": [
      "Collecting conmedrl==1.0.1\n",
      "  Downloading conmedrl-1.0.1-py3-none-any.whl.metadata (28 kB)\n",
      "Requirement already satisfied: flask==2.2.2 in c:\\users\\arsen\\anaconda3\\lib\\site-packages (from conmedrl==1.0.1) (2.2.2)\n",
      "Requirement already satisfied: scikit-learn==1.2.1 in c:\\users\\arsen\\anaconda3\\lib\\site-packages (from conmedrl==1.0.1) (1.2.1)\n",
      "Requirement already satisfied: torch in c:\\users\\arsen\\anaconda3\\lib\\site-packages (from conmedrl==1.0.1) (2.5.1)\n",
      "Requirement already satisfied: numpy==1.23.5 in c:\\users\\arsen\\anaconda3\\lib\\site-packages (from conmedrl==1.0.1) (1.23.5)\n",
      "Requirement already satisfied: tqdm==4.64.1 in c:\\users\\arsen\\anaconda3\\lib\\site-packages (from conmedrl==1.0.1) (4.64.1)\n",
      "Requirement already satisfied: pathlib==1.0.1 in c:\\users\\arsen\\anaconda3\\lib\\site-packages (from conmedrl==1.0.1) (1.0.1)\n",
      "Requirement already satisfied: pandas==1.5.3 in c:\\users\\arsen\\anaconda3\\lib\\site-packages (from conmedrl==1.0.1) (1.5.3)\n",
      "Requirement already satisfied: celery==5.3.6 in c:\\users\\arsen\\anaconda3\\lib\\site-packages (from conmedrl==1.0.1) (5.3.6)\n",
      "Requirement already satisfied: gunicorn==20.1.0 in c:\\users\\arsen\\anaconda3\\lib\\site-packages (from conmedrl==1.0.1) (20.1.0)\n",
      "Requirement already satisfied: pillow==9.4.0 in c:\\users\\arsen\\anaconda3\\lib\\site-packages (from conmedrl==1.0.1) (9.4.0)\n",
      "Requirement already satisfied: requests==2.31.0 in c:\\users\\arsen\\anaconda3\\lib\\site-packages (from conmedrl==1.0.1) (2.31.0)\n",
      "Requirement already satisfied: billiard<5.0,>=4.2.0 in c:\\users\\arsen\\anaconda3\\lib\\site-packages (from celery==5.3.6->conmedrl==1.0.1) (4.2.0)\n",
      "Requirement already satisfied: click-didyoumean>=0.3.0 in c:\\users\\arsen\\anaconda3\\lib\\site-packages (from celery==5.3.6->conmedrl==1.0.1) (0.3.1)\n",
      "Requirement already satisfied: click-plugins>=1.1.1 in c:\\users\\arsen\\anaconda3\\lib\\site-packages (from celery==5.3.6->conmedrl==1.0.1) (1.1.1)\n",
      "Requirement already satisfied: click-repl>=0.2.0 in c:\\users\\arsen\\anaconda3\\lib\\site-packages (from celery==5.3.6->conmedrl==1.0.1) (0.3.0)\n",
      "Requirement already satisfied: click<9.0,>=8.1.2 in c:\\users\\arsen\\anaconda3\\lib\\site-packages (from celery==5.3.6->conmedrl==1.0.1) (8.1.7)\n",
      "Requirement already satisfied: kombu<6.0,>=5.3.4 in c:\\users\\arsen\\anaconda3\\lib\\site-packages (from celery==5.3.6->conmedrl==1.0.1) (5.3.6)\n",
      "Requirement already satisfied: python-dateutil>=2.8.2 in c:\\users\\arsen\\anaconda3\\lib\\site-packages (from celery==5.3.6->conmedrl==1.0.1) (2.8.2)\n",
      "Requirement already satisfied: tzdata>=2022.7 in c:\\users\\arsen\\anaconda3\\lib\\site-packages (from celery==5.3.6->conmedrl==1.0.1) (2024.1)\n",
      "Requirement already satisfied: vine<6.0,>=5.1.0 in c:\\users\\arsen\\anaconda3\\lib\\site-packages (from celery==5.3.6->conmedrl==1.0.1) (5.1.0)\n",
      "Requirement already satisfied: Werkzeug>=2.2.2 in c:\\users\\arsen\\anaconda3\\lib\\site-packages (from flask==2.2.2->conmedrl==1.0.1) (2.2.2)\n",
      "Requirement already satisfied: Jinja2>=3.0 in c:\\users\\arsen\\anaconda3\\lib\\site-packages (from flask==2.2.2->conmedrl==1.0.1) (3.1.2)\n",
      "Requirement already satisfied: itsdangerous>=2.0 in c:\\users\\arsen\\anaconda3\\lib\\site-packages (from flask==2.2.2->conmedrl==1.0.1) (2.0.1)\n",
      "Requirement already satisfied: setuptools>=3.0 in c:\\users\\arsen\\anaconda3\\lib\\site-packages (from gunicorn==20.1.0->conmedrl==1.0.1) (69.2.0)\n",
      "Requirement already satisfied: pytz>=2020.1 in c:\\users\\arsen\\anaconda3\\lib\\site-packages (from pandas==1.5.3->conmedrl==1.0.1) (2022.7)\n",
      "Requirement already satisfied: charset-normalizer<4,>=2 in c:\\users\\arsen\\anaconda3\\lib\\site-packages (from requests==2.31.0->conmedrl==1.0.1) (2.0.4)\n",
      "Requirement already satisfied: idna<4,>=2.5 in c:\\users\\arsen\\anaconda3\\lib\\site-packages (from requests==2.31.0->conmedrl==1.0.1) (3.4)\n",
      "Requirement already satisfied: urllib3<3,>=1.21.1 in c:\\users\\arsen\\anaconda3\\lib\\site-packages (from requests==2.31.0->conmedrl==1.0.1) (1.26.14)\n",
      "Requirement already satisfied: certifi>=2017.4.17 in c:\\users\\arsen\\anaconda3\\lib\\site-packages (from requests==2.31.0->conmedrl==1.0.1) (2022.12.7)\n",
      "Requirement already satisfied: scipy>=1.3.2 in c:\\users\\arsen\\anaconda3\\lib\\site-packages (from scikit-learn==1.2.1->conmedrl==1.0.1) (1.10.0)\n",
      "Requirement already satisfied: joblib>=1.1.1 in c:\\users\\arsen\\anaconda3\\lib\\site-packages (from scikit-learn==1.2.1->conmedrl==1.0.1) (1.1.1)\n",
      "Requirement already satisfied: threadpoolctl>=2.0.0 in c:\\users\\arsen\\anaconda3\\lib\\site-packages (from scikit-learn==1.2.1->conmedrl==1.0.1) (2.2.0)\n",
      "Requirement already satisfied: colorama in c:\\users\\arsen\\anaconda3\\lib\\site-packages (from tqdm==4.64.1->conmedrl==1.0.1) (0.4.6)\n",
      "Requirement already satisfied: amqp<6.0.0,>=5.1.1 in c:\\users\\arsen\\anaconda3\\lib\\site-packages (from kombu<6.0,>=5.3.4->celery==5.3.6->conmedrl==1.0.1) (5.2.0)\n",
      "Requirement already satisfied: prompt-toolkit>=3.0.36 in c:\\users\\arsen\\anaconda3\\lib\\site-packages (from click-repl>=0.2.0->celery==5.3.6->conmedrl==1.0.1) (3.0.36)\n",
      "Requirement already satisfied: MarkupSafe>=2.0 in c:\\users\\arsen\\anaconda3\\lib\\site-packages (from Jinja2>=3.0->flask==2.2.2->conmedrl==1.0.1) (2.1.1)\n",
      "Requirement already satisfied: wcwidth in c:\\users\\arsen\\anaconda3\\lib\\site-packages (from prompt-toolkit>=3.0.36->click-repl>=0.2.0->celery==5.3.6->conmedrl==1.0.1) (0.2.5)\n",
      "Requirement already satisfied: six>=1.5 in c:\\users\\arsen\\anaconda3\\lib\\site-packages (from python-dateutil>=2.8.2->celery==5.3.6->conmedrl==1.0.1) (1.16.0)\n",
      "Requirement already satisfied: filelock in c:\\users\\arsen\\anaconda3\\lib\\site-packages (from torch->conmedrl==1.0.1) (3.9.0)\n",
      "Requirement already satisfied: typing-extensions>=4.8.0 in c:\\users\\arsen\\anaconda3\\lib\\site-packages (from torch->conmedrl==1.0.1) (4.12.2)\n",
      "Requirement already satisfied: networkx in c:\\users\\arsen\\anaconda3\\lib\\site-packages (from torch->conmedrl==1.0.1) (2.8.4)\n",
      "Requirement already satisfied: fsspec in c:\\users\\arsen\\anaconda3\\lib\\site-packages (from torch->conmedrl==1.0.1) (2022.11.0)\n",
      "Requirement already satisfied: sympy==1.13.1 in c:\\users\\arsen\\anaconda3\\lib\\site-packages (from torch->conmedrl==1.0.1) (1.13.1)\n",
      "Requirement already satisfied: mpmath<1.4,>=1.1.0 in c:\\users\\arsen\\anaconda3\\lib\\site-packages (from sympy==1.13.1->torch->conmedrl==1.0.1) (1.2.1)\n",
      "Downloading conmedrl-1.0.1-py3-none-any.whl (103 kB)\n",
      "Installing collected packages: conmedrl\n",
      "  Attempting uninstall: conmedrl\n",
      "    Found existing installation: ConMedRL 1.0.0\n",
      "    Uninstalling ConMedRL-1.0.0:\n",
      "      Successfully uninstalled ConMedRL-1.0.0\n",
      "Successfully installed conmedrl-1.0.1\n"
     ]
    }
   ],
   "source": [
    "!pip install conmedrl==1.0.1"
   ]
  },
  {
   "cell_type": "code",
   "execution_count": 1,
   "id": "3cb06f96",
   "metadata": {},
   "outputs": [
    {
     "name": "stdout",
     "output_type": "stream",
     "text": [
      "1.0.1\n"
     ]
    }
   ],
   "source": [
    "import ConMedRL\n",
    "print(ConMedRL.__version__)"
   ]
  },
  {
   "cell_type": "code",
   "execution_count": 2,
   "id": "a562b428",
   "metadata": {},
   "outputs": [
    {
     "name": "stdout",
     "output_type": "stream",
     "text": [
      "ConMedRL Successfully Installed！\n"
     ]
    }
   ],
   "source": [
    "from ConMedRL import FQE, FQI, TrainDataLoader, ValTestDataLoader, RLConfig_custom, RLConfigurator, RLTraining\n",
    "print(\"ConMedRL Successfully Installed！\")"
   ]
  },
  {
   "cell_type": "code",
   "execution_count": 3,
   "id": "f6d006ae",
   "metadata": {},
   "outputs": [],
   "source": [
    "from Data import mimic_iv_icu_discharge"
   ]
  },
  {
   "cell_type": "code",
   "execution_count": null,
   "id": "db38e5a5",
   "metadata": {},
   "outputs": [],
   "source": []
  }
 ],
 "metadata": {
  "kernelspec": {
   "display_name": "base",
   "language": "python",
   "name": "python3"
  },
  "language_info": {
   "codemirror_mode": {
    "name": "ipython",
    "version": 3
   },
   "file_extension": ".py",
   "mimetype": "text/x-python",
   "name": "python",
   "nbconvert_exporter": "python",
   "pygments_lexer": "ipython3",
   "version": "3.10.9"
  }
 },
 "nbformat": 4,
 "nbformat_minor": 5
}
